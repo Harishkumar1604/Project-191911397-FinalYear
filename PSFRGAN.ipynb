{
  "nbformat": 4,
  "nbformat_minor": 0,
  "metadata": {
    "colab": {
      "provenance": []
    },
    "kernelspec": {
      "name": "python3",
      "display_name": "Python 3"
    },
    "language_info": {
      "name": "python"
    },
    "accelerator": "GPU",
    "gpuClass": "standard"
  },
  "cells": [
    {
      "cell_type": "code",
      "execution_count": 1,
      "metadata": {
        "colab": {
          "base_uri": "https://localhost:8080/"
        },
        "id": "YcG--35S3IFy",
        "outputId": "8c75fddb-fd54-40ce-d8e3-6d40f22e3e34"
      },
      "outputs": [
        {
          "output_type": "stream",
          "name": "stdout",
          "text": [
            "/content\n",
            "Cloning into 'PSFR-GAN'...\n",
            "remote: Enumerating objects: 522, done.\u001b[K\n",
            "remote: Counting objects: 100% (46/46), done.\u001b[K\n",
            "remote: Compressing objects: 100% (11/11), done.\u001b[K\n",
            "remote: Total 522 (delta 37), reused 35 (delta 35), pack-reused 476\u001b[K\n",
            "Receiving objects: 100% (522/522), 9.20 MiB | 23.79 MiB/s, done.\n",
            "Resolving deltas: 100% (100/100), done.\n",
            "/content/PSFR-GAN/pretrain_models\n",
            "/usr/local/lib/python3.8/dist-packages/gdown/cli.py:127: FutureWarning: Option `--id` was deprecated in version 4.3.1 and will be removed in 5.0. You don't need to pass it anymore to use a file ID.\n",
            "  warnings.warn(\n",
            "Downloading...\n",
            "From: https://drive.google.com/uc?id=1UhzMSORSul88iVfSYQYuEal83lEoNN7l\n",
            "To: /content/PSFR-GAN/pretrain_models/mmod_human_face_detector.dat\n",
            "100% 730k/730k [00:00<00:00, 133MB/s]\n",
            "/usr/local/lib/python3.8/dist-packages/gdown/cli.py:127: FutureWarning: Option `--id` was deprecated in version 4.3.1 and will be removed in 5.0. You don't need to pass it anymore to use a file ID.\n",
            "  warnings.warn(\n",
            "Downloading...\n",
            "From: https://drive.google.com/uc?id=1UiHeUHVNKiEq_s5dcBv6jez6TqrAduMg\n",
            "To: /content/PSFR-GAN/pretrain_models/shape_predictor_5_face_landmarks.dat\n",
            "100% 9.15M/9.15M [00:00<00:00, 51.6MB/s]\n",
            "/usr/local/lib/python3.8/dist-packages/gdown/cli.py:127: FutureWarning: Option `--id` was deprecated in version 4.3.1 and will be removed in 5.0. You don't need to pass it anymore to use a file ID.\n",
            "  warnings.warn(\n",
            "Downloading...\n",
            "From: https://drive.google.com/uc?id=1UcTeI_-YmQeNypHW98VRuIF13xEPmPWm\n",
            "To: /content/PSFR-GAN/pretrain_models/FFHQ_template.npy\n",
            "100% 208/208 [00:00<00:00, 374kB/s]\n",
            "/usr/local/lib/python3.8/dist-packages/gdown/cli.py:127: FutureWarning: Option `--id` was deprecated in version 4.3.1 and will be removed in 5.0. You don't need to pass it anymore to use a file ID.\n",
            "  warnings.warn(\n",
            "Downloading...\n",
            "From: https://drive.google.com/uc?id=1Unn2eznkclqUhK_o50YUyaV7eoTE4Su3\n",
            "To: /content/PSFR-GAN/pretrain_models/parse_multi_iter_90000.pth\n",
            "100% 85.3M/85.3M [00:00<00:00, 98.3MB/s]\n",
            "/usr/local/lib/python3.8/dist-packages/gdown/cli.py:127: FutureWarning: Option `--id` was deprecated in version 4.3.1 and will be removed in 5.0. You don't need to pass it anymore to use a file ID.\n",
            "  warnings.warn(\n",
            "Access denied with the following error:\n",
            "\n",
            " \tCannot retrieve the public link of the file. You may need to change\n",
            "\tthe permission to 'Anyone with the link', or have had many accesses. \n",
            "\n",
            "You may still be able to access the file from the browser:\n",
            "\n",
            "\t https://drive.google.com/uc?id=1P6jZRPKPq6g2DsVJevszbM1vL5HDO1fR \n",
            "\n"
          ]
        }
      ],
      "source": [
        "%cd /content\n",
        "!git clone https://github.com/chaofengc/PSFR-GAN.git\n",
        "\n",
        "%mkdir -p /content/PSFR-GAN/pretrain_models\n",
        "%cd /content/PSFR-GAN/pretrain_models\n",
        "!gdown --id 1UhzMSORSul88iVfSYQYuEal83lEoNN7l\n",
        "!gdown --id 1UiHeUHVNKiEq_s5dcBv6jez6TqrAduMg\n",
        "!gdown --id 1UcTeI_-YmQeNypHW98VRuIF13xEPmPWm\n",
        "!gdown --id 1Unn2eznkclqUhK_o50YUyaV7eoTE4Su3\n",
        "!gdown --id 1P6jZRPKPq6g2DsVJevszbM1vL5HDO1fR"
      ]
    },
    {
      "cell_type": "code",
      "source": [
        "%cd /content/PSFR-GAN\n",
        "from pathlib import Path\n",
        "test_img_path = '/content/Harish-Passport.jpg'"
      ],
      "metadata": {
        "colab": {
          "base_uri": "https://localhost:8080/"
        },
        "id": "iXj71Hje3dwN",
        "outputId": "b1b7c2b1-fcef-4646-dde5-d44255c479d3"
      },
      "execution_count": 2,
      "outputs": [
        {
          "output_type": "stream",
          "name": "stdout",
          "text": [
            "/content/PSFR-GAN\n"
          ]
        }
      ]
    },
    {
      "cell_type": "code",
      "source": [
        "%cd /content/PSFR-GAN\n",
        "!python test_enhance_single_unalign.py \\\n",
        " --test_img_path {'/content/Harish-Passport.jpg'} \\\n",
        " --results_dir results \\\n",
        " --gpus 1"
      ],
      "metadata": {
        "colab": {
          "base_uri": "https://localhost:8080/"
        },
        "id": "rOrk48sj3n6N",
        "outputId": "e8ddd751-84dd-4682-9db6-21decf7c26e3"
      },
      "execution_count": 4,
      "outputs": [
        {
          "output_type": "stream",
          "name": "stdout",
          "text": [
            "/content/PSFR-GAN\n",
            "----------------- Options ---------------\n",
            "                    D_num: 3                             \n",
            "                Dinput_nc: 3                             \n",
            "                    Dnorm: in                            \n",
            "                 Gin_size: 512                           \t[default: 512]\n",
            "                    Gnorm: spade                         \n",
            "                Gout_size: 512                           \t[default: 512]\n",
            "                Pimg_size: 512                           \t[default: 512]\n",
            "                    Pnorm: bn                            \n",
            "             aspect_ratio: 1.0                           \n",
            "               batch_size: 16                            \n",
            "          checkpoints_dir: ./check_points                \n",
            "                crop_size: 256                           \n",
            "              data_device: cuda:0                        \t[default: None]\n",
            "                 dataroot: None                          \n",
            "             dataset_name: single                        \n",
            "                    debug: False                         \n",
            "                   device: cuda:0                        \t[default: None]\n",
            "                    epoch: latest                        \n",
            "                     eval: False                         \n",
            "                  gpu_ids: [0]                           \t[default: None]\n",
            "                     gpus: 1                             \n",
            "                init_gain: 0.02                          \n",
            "                init_type: normal                        \n",
            "                 input_nc: 3                             \n",
            "                  isTrain: False                         \t[default: None]\n",
            "                load_iter: 0                             \t[default: 0]\n",
            "                load_size: 256                           \n",
            "         max_dataset_size: inf                           \n",
            "                    model: enhance                       \n",
            "               n_layers_D: 4                             \n",
            "                     name: experiment_name               \n",
            "                      ndf: 64                            \n",
            "                      ngf: 64                            \n",
            "                  no_flip: False                         \n",
            "                    ntest: inf                           \n",
            "                 num_test: 50                            \n",
            "              num_threads: 8                             \n",
            "                output_nc: 3                             \n",
            "         parse_net_weight: ./pretrain_models/parse_multi_iter_90000.pth\n",
            "                    phase: test                          \n",
            "               preprocess: none                          \n",
            "          psfr_net_weight: ./pretrain_models/psfrgan_epoch15_net_G.pth\n",
            "              results_dir: results                       \t[default: ./results/]\n",
            "           save_masks_dir: ../datasets/FFHQ/masks512     \n",
            "                     seed: 123                           \n",
            "           serial_batches: False                         \n",
            "                  src_dir:                               \n",
            "                   suffix:                               \n",
            "            test_img_path: /content/Harish-Passport.jpg  \t[default: ]\n",
            "             test_upscale: 1                             \n",
            "                  verbose: False                         \n",
            "----------------- End -------------------\n",
            "======> Loading images, crop and align faces.\n",
            "======> Saving aligned LQ faces to results/LQ_faces\n",
            "model [EnhanceModel] was created\n",
            "Loading pretrained LQ face parsing network from ./pretrain_models/parse_multi_iter_90000.pth\n",
            "Loading pretrained PSFRGAN from ./pretrain_models/psfrgan_epoch15_net_G.pth\n",
            "100% 1/1 [00:00<00:00,  3.65it/s]\n",
            "======> Save parsing map and the enhanced faces.\n",
            "======> Paste the enhanced faces back to the original image.\n",
            "100% 1/1 [00:00<00:00,  3.23it/s]\n",
            "======> Save final result to results/hq_final.jpg\n"
          ]
        }
      ]
    },
    {
      "cell_type": "code",
      "source": [
        "!tar czvf PSFRGAN.tar.gz /content/PSFR-GAN/results"
      ],
      "metadata": {
        "colab": {
          "base_uri": "https://localhost:8080/"
        },
        "id": "FZXNLIWf5I2u",
        "outputId": "543da416-966c-4022-ef53-1666f61e07da"
      },
      "execution_count": null,
      "outputs": [
        {
          "output_type": "stream",
          "name": "stdout",
          "text": [
            "tar: Removing leading `/' from member names\n",
            "/content/PSFR-GAN/results/\n",
            "/content/PSFR-GAN/results/hq_final.jpg\n",
            "/content/PSFR-GAN/results/LQ_faces/\n",
            "/content/PSFR-GAN/results/LQ_faces/000.jpg\n",
            "/content/PSFR-GAN/results/HQ/\n",
            "/content/PSFR-GAN/results/HQ/000.jpg\n",
            "/content/PSFR-GAN/results/ParseMaps/\n",
            "/content/PSFR-GAN/results/ParseMaps/000.jpg\n"
          ]
        }
      ]
    }
  ]
}